{
 "cells": [
  {
   "cell_type": "markdown",
   "metadata": {},
   "source": [
    "## 1. Qual é o valor médio (total_amount) arrecadado por mês por todos os táxis amarelos no período especificado?"
   ]
  },
  {
   "cell_type": "code",
   "execution_count": null,
   "metadata": {
    "vscode": {
     "languageId": "sql"
    }
   },
   "outputs": [],
   "source": [
    "select\n",
    "    data_ref as mes,\n",
    "    AVG(total_amount) as valor_medio\n",
    "from s_prd.yellow_taxi_data\n",
    "group by data_ref\n",
    "order by data_ref"
   ]
  },
  {
   "cell_type": "markdown",
   "metadata": {},
   "source": [
    "![resultado 1](./resultado-1.png)"
   ]
  },
  {
   "cell_type": "markdown",
   "metadata": {},
   "source": [
    "## 2 - Qual é a média de passageiros (passenger_count) por hora e por dia em todos os táxis amarelos no período especificado?"
   ]
  },
  {
   "cell_type": "markdown",
   "metadata": {},
   "source": [
    "### Média por hora e dia:"
   ]
  },
  {
   "cell_type": "code",
   "execution_count": null,
   "metadata": {
    "vscode": {
     "languageId": "sql"
    }
   },
   "outputs": [],
   "source": [
    "SELECT\n",
    "  CAST(DATE_TRUNC('hour', tpep_pickup_datetime) AS DATE) AS data,\n",
    "  format_datetime(DATE_TRUNC('hour', tpep_pickup_datetime), 'HH:mm:ss') AS hora,\n",
    "  AVG(passenger_count) AS media_passageiros\n",
    "FROM s_prd.yellow_taxi_data\n",
    "WHERE passenger_count IS NOT NULL\n",
    "GROUP BY\n",
    "  CAST(DATE_TRUNC('hour', tpep_pickup_datetime) AS DATE),\n",
    "  format_datetime(DATE_TRUNC('hour', tpep_pickup_datetime), 'HH:mm:ss')\n",
    "ORDER BY data, hora;"
   ]
  },
  {
   "cell_type": "markdown",
   "metadata": {
    "vscode": {
     "languageId": "sql"
    }
   },
   "source": [
    "![resultado 1](./resultado-2.png)"
   ]
  }
 ],
 "metadata": {
  "kernelspec": {
   "display_name": ".virtualenv",
   "language": "python",
   "name": "python3"
  },
  "language_info": {
   "codemirror_mode": {
    "name": "ipython",
    "version": 3
   },
   "file_extension": ".py",
   "mimetype": "text/x-python",
   "name": "python",
   "nbconvert_exporter": "python",
   "pygments_lexer": "ipython3",
   "version": "3.12.3"
  }
 },
 "nbformat": 4,
 "nbformat_minor": 2
}
